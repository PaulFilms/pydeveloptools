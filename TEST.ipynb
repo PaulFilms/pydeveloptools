{
 "cells": [
  {
   "cell_type": "code",
   "execution_count": null,
   "metadata": {},
   "outputs": [],
   "source": []
  },
  {
   "cell_type": "code",
   "execution_count": 7,
   "metadata": {},
   "outputs": [
    {
     "name": "stdout",
     "output_type": "stream",
     "text": [
      "      Id         USER  DATE_LIMIT  \\\n",
      "0   0001     GONZA_PA  2022-12-10   \n",
      "1   0002        MBAir  2023-09-20   \n",
      "2   0003     GONZA_PA  2023-09-29   \n",
      "3   0004     GARCIA_B  2023-06-06   \n",
      "4   0006     ORTEGA_C  2023-06-09   \n",
      "5   0007      GOMEZ_D  2023-06-26   \n",
      "6   0008     IGLESIAS  2023-06-27   \n",
      "7   0009      ARRIAZA  2023-07-17   \n",
      "8   0010     VALENC_E  2023-07-19   \n",
      "9   0011     SANCHE_R  2023-08-16   \n",
      "10  0012      VELASCO  2023-08-31   \n",
      "11  0013     PXIWIN10  2023-10-04   \n",
      "12  0014     EXPOSITO  2023-09-25   \n",
      "13  0015  SA_MD_VSCAN  2023-12-30   \n",
      "14  0016      PEREZ_J  2023-10-11   \n",
      "\n",
      "                                 _last_modifier  \\\n",
      "0                                          TEST   \n",
      "1                                          TEST   \n",
      "2                                          TEST   \n",
      "3                                          TEST   \n",
      "4                                          TEST   \n",
      "5                                          TEST   \n",
      "6                                          TEST   \n",
      "7                                          TEST   \n",
      "8                                          TEST   \n",
      "9                                          TEST   \n",
      "10                                         TEST   \n",
      "11                                         TEST   \n",
      "12                                         TEST   \n",
      "13  6246a6110cc2460ab483369839a1e02c@auth.local   \n",
      "14                                         TEST   \n",
      "\n",
      "                             FIRM  _archived  \\\n",
      "0   GONZA_PA [2022-12-10 / 21:00]      False   \n",
      "1      MBAir [2023-09-20 / 22:55]      False   \n",
      "2   GONZA_PA [2023-09-29 / 13:54]      False   \n",
      "3   GARCIA_B [2023-06-06 / 08:05]      False   \n",
      "4   ORTEGA_C [2023-06-09 / 13:32]      False   \n",
      "5    GOMEZ_D [2023-06-26 / 10:34]      False   \n",
      "6   IGLESIAS [2023-06-27 / 12:47]      False   \n",
      "7    ARRIAZA [2023-07-17 / 13:48]      False   \n",
      "8   VALENC_E [2023-07-19 / 11:17]      False   \n",
      "9   SANCHE_R [2023-08-16 / 09:45]      False   \n",
      "10   VELASCO [2023-08-31 / 12:15]      False   \n",
      "11  PXIWIN10 [2023-10-04 / 13:56]      False   \n",
      "12  EXPOSITO [2023-09-25 / 11:15]      False   \n",
      "13                           Test      False   \n",
      "14   PEREZ_J [2023-10-11 / 13:44]      False   \n",
      "\n",
      "                                       _creator MACHINE  OPENS _locked  \\\n",
      "0   6246a6110cc2460ab483369839a1e02c@auth.local    None     69    None   \n",
      "1   6246a6110cc2460ab483369839a1e02c@auth.local    None      0    None   \n",
      "2   6246a6110cc2460ab483369839a1e02c@auth.local    None      0    None   \n",
      "3   6246a6110cc2460ab483369839a1e02c@auth.local    None      0    None   \n",
      "4   6246a6110cc2460ab483369839a1e02c@auth.local    None      0    None   \n",
      "5   6246a6110cc2460ab483369839a1e02c@auth.local    None      0    None   \n",
      "6   6246a6110cc2460ab483369839a1e02c@auth.local    None      0    None   \n",
      "7   6246a6110cc2460ab483369839a1e02c@auth.local    None      0    None   \n",
      "8   6246a6110cc2460ab483369839a1e02c@auth.local    None      0    None   \n",
      "9   6246a6110cc2460ab483369839a1e02c@auth.local    None      0    None   \n",
      "10  6246a6110cc2460ab483369839a1e02c@auth.local    None      0    None   \n",
      "11  6246a6110cc2460ab483369839a1e02c@auth.local    None      0    None   \n",
      "12  6246a6110cc2460ab483369839a1e02c@auth.local    None      0    None   \n",
      "13  6246a6110cc2460ab483369839a1e02c@auth.local    None    100    None   \n",
      "14  6246a6110cc2460ab483369839a1e02c@auth.local    None      0    None   \n",
      "\n",
      "                      _mtime                     _id APPLICATION _locked_by  \\\n",
      "0   2022-12-10T20:00:35.232Z  aI8FX4nVQ3eTysPYQKbAgg    FLEXICAL       None   \n",
      "1   2023-09-20T20:55:19.108Z  Pf-rpOgkTFKOQF0_IUhmNg       NMBv3       None   \n",
      "2   2023-09-29T11:54:57.332Z  Iyp4AWszTf2RNq5oOkIaxA       NMBv3       None   \n",
      "3   2023-06-06T06:05:31.914Z  aw6ijDJjSReh8Xnf7dTNyA       NMBv3       None   \n",
      "4   2023-06-09T11:32:21.536Z  S3j1gl40TYu7Am02Ny0TCQ       NMBv3       None   \n",
      "5   2023-06-26T08:34:24.848Z  WpgnBZnSQfWyJ8ogSEKh3w       NMBv3       None   \n",
      "6   2023-06-27T10:47:02.794Z  ONKb9MQEQq2g9TLLz3mymg       NMBv3       None   \n",
      "7   2023-07-17T11:48:13.217Z  O-1o9s4WSZaz7GiWtQV13w       NMBv3       None   \n",
      "8   2023-07-19T09:17:02.965Z  HnyKej83QpOAJ5GgtNsRbg       NMBv3       None   \n",
      "9   2023-08-16T07:45:36.254Z  RcvknOM2TTKnpdUpUhfYLw       NMBv3       None   \n",
      "10  2023-08-31T10:15:45.245Z  GDi0xFfkRaiHj41L-dNx7g       NMBv3       None   \n",
      "11   2023-10-04T11:56:34.21Z  EXa63CSxQ3uQJwXfig77Pg       NMBv3       None   \n",
      "12   2023-09-25T09:15:36.82Z  U86PkSxOSgWitTMnGwg4yw       NMBv3       None   \n",
      "13  2023-10-09T10:19:46.374Z  IFNDZsnPQjmbYWebmA7d_A       NMBv3       None   \n",
      "14  2023-10-11T11:44:22.676Z  fmje5062QNWbyTawK3DYig       NMBv3       None   \n",
      "\n",
      "                      _ctime  \n",
      "0   2022-12-10T15:42:24.029Z  \n",
      "1   2022-12-10T15:43:31.554Z  \n",
      "2   2023-06-05T19:04:49.669Z  \n",
      "3   2023-06-06T05:52:01.944Z  \n",
      "4   2023-06-09T11:30:57.992Z  \n",
      "5   2023-06-26T08:30:49.322Z  \n",
      "6   2023-06-27T10:45:24.988Z  \n",
      "7   2023-07-17T11:46:48.605Z  \n",
      "8   2023-07-19T09:14:54.388Z  \n",
      "9   2023-08-16T07:44:10.278Z  \n",
      "10  2023-08-31T10:13:51.415Z  \n",
      "11  2023-09-19T11:26:40.954Z  \n",
      "12  2023-09-25T09:14:20.559Z  \n",
      "13  2023-10-09T10:18:35.496Z  \n",
      "14  2023-10-11T11:40:45.618Z  \n"
     ]
    }
   ],
   "source": [
    "from pydeveloptools.database import seatable\n",
    "\n",
    "with open('seatable.txt', 'r') as f:\n",
    "    TOKEN = f.read()\n",
    "# print(TOKEN)\n",
    "\n",
    "DB = seatable.SEATABLE_DB(TOKEN)\n",
    "\n",
    "DF = DB.SQL_DF(f\"SELECT * FROM LICENSES\")\n",
    "print(DF)"
   ]
  },
  {
   "cell_type": "code",
   "execution_count": 1,
   "metadata": {},
   "outputs": [
    {
     "name": "stdout",
     "output_type": "stream",
     "text": [
      ".\n"
     ]
    }
   ],
   "source": [
    "import locale\n",
    "\n",
    "# Get the decimal separator\n",
    "decimal_separator = locale.localeconv()['decimal_point']\n",
    "\n",
    "# Print the decimal separator\n",
    "print(decimal_separator)"
   ]
  },
  {
   "cell_type": "code",
   "execution_count": 11,
   "metadata": {},
   "outputs": [
    {
     "name": "stdout",
     "output_type": "stream",
     "text": [
      "Internet connection is available.\n"
     ]
    }
   ],
   "source": [
    "import socket\n",
    "\n",
    "def check_internet_connection():\n",
    "    try:\n",
    "        # Try to resolve a DNS address to check internet connectivity\n",
    "        socket.gethostbyname(r\"www.seatable.io\")\n",
    "        return True\n",
    "    except:\n",
    "        return False\n",
    "\n",
    "# Check internet connection and print the result\n",
    "if check_internet_connection():\n",
    "    print(\"Internet connection is available.\")\n",
    "else:\n",
    "    print(\"Internet connection is not available.\")"
   ]
  },
  {
   "cell_type": "code",
   "execution_count": 13,
   "metadata": {},
   "outputs": [],
   "source": [
    "import pyperclip\n",
    "\n",
    "value = \"hola jupy\"\n",
    "value = 0.362\n",
    "pyperclip.copy(value)"
   ]
  },
  {
   "cell_type": "code",
   "execution_count": 2,
   "metadata": {},
   "outputs": [
    {
     "name": "stdout",
     "output_type": "stream",
     "text": [
      "POLLA(v1='1', v2='2')\n",
      "{'v1': '1', 'v2': '2'}\n"
     ]
    }
   ],
   "source": [
    "from dataclasses import dataclass, asdict\n",
    "\n",
    "@dataclass\n",
    "class POLLA:\n",
    "    v1: str\n",
    "    v2: str\n",
    "\n",
    "polla = POLLA(v1=\"1\", v2=\"2\")\n",
    "print(polla)\n",
    "\n",
    "d = asdict(polla)\n",
    "print(d)"
   ]
  },
  {
   "cell_type": "code",
   "execution_count": 13,
   "metadata": {},
   "outputs": [
    {
     "name": "stdout",
     "output_type": "stream",
     "text": [
      "1.23E-02\n",
      "-2\n"
     ]
    }
   ],
   "source": [
    "value = 1234.56789\n",
    "uncer = 0.01234\n",
    "\n",
    "sci_not = \"{:.2e}\".format(uncer)\n",
    "sci_not = f\"{uncer:.2E}\"\n",
    "print(sci_not)\n",
    "\n",
    "decimal = int(sci_not[-3:])\n",
    "print(decimal)\n",
    "\n"
   ]
  }
 ],
 "metadata": {
  "kernelspec": {
   "display_name": "Python 3",
   "language": "python",
   "name": "python3"
  },
  "language_info": {
   "codemirror_mode": {
    "name": "ipython",
    "version": 3
   },
   "file_extension": ".py",
   "mimetype": "text/x-python",
   "name": "python",
   "nbconvert_exporter": "python",
   "pygments_lexer": "ipython3",
   "version": "3.12.0"
  },
  "orig_nbformat": 4
 },
 "nbformat": 4,
 "nbformat_minor": 2
}
