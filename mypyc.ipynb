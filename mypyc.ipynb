{
 "cells": [
  {
   "cell_type": "markdown",
   "metadata": {},
   "source": [
    "# MYPYC COMPILE / CONSOLE SCRIPTS\n",
    "---------------------------------\n",
    "[mypyc (WEB)](https://mypyc.readthedocs.io/en/latest/getting_started.html)\n",
    "\n",
    "[C++ Build Tools 2022](https://visualstudio.microsoft.com/visual-cpp-build-tools/)\n",
    "\n",
    "python3 -m pip install -U 'mypy[mypyc]'"
   ]
  },
  {
   "cell_type": "code",
   "execution_count": 4,
   "metadata": {},
   "outputs": [
    {
     "name": "stderr",
     "output_type": "stream",
     "text": [
      "ERROR: Invalid requirement: \"'mypy[mypyc]'\"\n"
     ]
    }
   ],
   "source": [
    "!pip install -U 'mypy[mypyc]'"
   ]
  },
  {
   "cell_type": "code",
   "execution_count": 2,
   "metadata": {},
   "outputs": [
    {
     "name": "stderr",
     "output_type": "stream",
     "text": [
      "'mypyc' is not recognized as an internal or external command,\n",
      "operable program or batch file.\n"
     ]
    }
   ],
   "source": [
    "!mypyc func_system.py"
   ]
  }
 ],
 "metadata": {
  "kernelspec": {
   "display_name": "Python 3",
   "language": "python",
   "name": "python3"
  },
  "language_info": {
   "codemirror_mode": {
    "name": "ipython",
    "version": 3
   },
   "file_extension": ".py",
   "mimetype": "text/x-python",
   "name": "python",
   "nbconvert_exporter": "python",
   "pygments_lexer": "ipython3",
   "version": "3.12.0"
  }
 },
 "nbformat": 4,
 "nbformat_minor": 2
}
