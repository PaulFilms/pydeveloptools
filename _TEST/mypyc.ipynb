{
 "cells": [
  {
   "cell_type": "markdown",
   "metadata": {},
   "source": [
    "# MYPYC COMPILE / CONSOLE SCRIPTS\n",
    "---------------------------------\n",
    "[mypyc (WEB)](https://mypyc.readthedocs.io/en/latest/getting_started.html)\n",
    "\n",
    "[C++ Build Tools 2022](https://visualstudio.microsoft.com/visual-cpp-build-tools/)\n",
    "\n",
    "python3 -m pip install -U 'mypy[mypyc]'"
   ]
  },
  {
   "cell_type": "code",
   "execution_count": 4,
   "metadata": {},
   "outputs": [
    {
     "name": "stderr",
     "output_type": "stream",
     "text": [
      "ERROR: Invalid requirement: \"'mypy[mypyc]'\"\n"
     ]
    }
   ],
   "source": [
    "!pip install -U 'mypy[mypyc]'"
   ]
  },
  {
   "cell_type": "code",
   "execution_count": 2,
   "metadata": {},
   "outputs": [
    {
     "name": "stderr",
     "output_type": "stream",
     "text": [
      "'mypyc' is not recognized as an internal or external command,\n",
      "operable program or batch file.\n"
     ]
    }
   ],
   "source": [
    "!mypyc func_system.py"
   ]
  },
  {
   "cell_type": "code",
   "execution_count": 1,
   "metadata": {},
   "outputs": [
    {
     "name": "stdout",
     "output_type": "stream",
     "text": [
      "['C:\\\\Users\\\\GONZA_PA\\\\Documents\\\\_PRIVATE\\\\_PROGRAMMING\\\\NMBv3\\\\GONZA_PA.lic']\n"
     ]
    }
   ],
   "source": [
    "import os\n",
    "from glob import glob\n",
    "\n",
    "p = r\"C:\\Users\\GONZA_PA\\Documents\\_PRIVATE\\_PROGRAMMING\\NMBv3\"\n",
    "\n",
    "l = glob(os.path.join(p, \"*.lic\"))\n",
    "\n",
    "print(l)"
   ]
  }
 ],
 "metadata": {
  "kernelspec": {
   "display_name": "Python 3",
   "language": "python",
   "name": "python3"
  },
  "language_info": {
   "codemirror_mode": {
    "name": "ipython",
    "version": 3
   },
   "file_extension": ".py",
   "mimetype": "text/x-python",
   "name": "python",
   "nbconvert_exporter": "python",
   "pygments_lexer": "ipython3",
   "version": "3.12.1"
  }
 },
 "nbformat": 4,
 "nbformat_minor": 2
}
